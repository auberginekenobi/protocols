{
 "cells": [
  {
   "cell_type": "code",
   "execution_count": null,
   "id": "7278e3f8-94de-4f86-9460-76af99910192",
   "metadata": {},
   "outputs": [],
   "source": []
  },
  {
   "cell_type": "code",
   "execution_count": null,
   "id": "f7319364-6dfe-4cb4-aeb7-b9c8184a09b0",
   "metadata": {},
   "outputs": [],
   "source": []
  },
  {
   "cell_type": "code",
   "execution_count": null,
   "id": "0829444b-8487-4601-a5aa-e6e03615b139",
   "metadata": {},
   "outputs": [],
   "source": []
  },
  {
   "cell_type": "markdown",
   "id": "2dc397f8-d603-4382-8bdc-59667a12a7df",
   "metadata": {},
   "source": [
    "### Set"
   ]
  },
  {
   "cell_type": "markdown",
   "id": "157750ad-a9cd-4a45-b2e4-6609142d41ff",
   "metadata": {},
   "source": [
    "A python `set` works more or less like a mathematical set; a collection of anything, but no duplicates allowed. Create a set using `set()`:"
   ]
  },
  {
   "cell_type": "code",
   "execution_count": null,
   "id": "12830346-ac57-47c6-8e9f-41aebd593e6c",
   "metadata": {},
   "outputs": [],
   "source": [
    "pokemon_game_release_years = [1996,1996,2000,2001,2003,2005]"
   ]
  }
 ],
 "metadata": {
  "kernelspec": {
   "display_name": "py3",
   "language": "python",
   "name": "py3"
  },
  "language_info": {
   "codemirror_mode": {
    "name": "ipython",
    "version": 3
   },
   "file_extension": ".py",
   "mimetype": "text/x-python",
   "name": "python",
   "nbconvert_exporter": "python",
   "pygments_lexer": "ipython3",
   "version": "3.13.5"
  }
 },
 "nbformat": 4,
 "nbformat_minor": 5
}
