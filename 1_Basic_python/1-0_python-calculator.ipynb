{
 "cells": [
  {
   "cell_type": "markdown",
   "id": "30d2bbaf-dfa1-4e0f-b752-fad073b4e5d8",
   "metadata": {},
   "source": [
    "# 1.0 Python is a calculator\n",
    "This tutorial notebook introduces the following key concepts and their implementations in python:\n",
    "- numerical types `int` and `float`\n",
    "- variables\n",
    "- Errors\n",
    "- calling `function`s\n",
    "- the `list` data structure\n",
    "- packages `math` and `scipy.stats` for doing various useful calculations.\n",
    "### Requirements\n",
    "**Dependencies:**  \n",
    "Python 3  \n",
    "`scipy`\n",
    "\n",
    "**Prerequisites:**  \n",
    "See tutorial 0, 'Setting up your workstation' for instructions on how to install Python and run this notebook."
   ]
  },
  {
   "cell_type": "code",
   "execution_count": null,
   "id": "0d1927c1-27fb-4634-9f44-6ad16bc59fac",
   "metadata": {},
   "outputs": [],
   "source": [
    "# Any text following a hash '#' are *comments*. They aren't read by the computer and are for documenting your code."
   ]
  },
  {
   "cell_type": "markdown",
   "id": "9bd1a43a-3919-443d-aac3-6f8f4e96efe5",
   "metadata": {},
   "source": [
    "A programming language (such as Python 3) is essentially a very generalizeable calculator. Here are some of the core components:\n",
    "- simple data types called *primitives* such as numbers and characters (`3`, `2.1`, `'a'`, etc)\n",
    "- complex data *objects* composed of simpler parts (`[3,4]`, `'some text'`)\n",
    "- *variables* that can be assigned a value (`x = 4`)\n",
    "- *functions* that perform some transformation on your data (`f(x)`)\n",
    "\n",
    "We'll explain these in more detail later. For now, let's start with the very useful function `print`. "
   ]
  },
  {
   "cell_type": "markdown",
   "id": "506c97aa-3b57-497e-85e6-a1c010cfac8a",
   "metadata": {},
   "source": [
    "## `print()`"
   ]
  },
  {
   "cell_type": "code",
   "execution_count": null,
   "id": "3e1ba09d-f434-45dd-b907-a530600ec0f2",
   "metadata": {},
   "outputs": [],
   "source": [
    "# print() takes an input and shows that input to the user:\n",
    "print('Hello world')\n",
    "\n",
    "# If print() is given a variable, it prints the value:\n",
    "x = 'This is the python basics tutorial.'\n",
    "print(x)\n",
    "\n",
    "# print can accept more than one input, separated by a comma:\n",
    "my_variable = 7\n",
    "print(\"Here is the value of my_variable:\", my_variable)"
   ]
  },
  {
   "cell_type": "markdown",
   "id": "3a58749b-0633-4e6b-9473-013f676f3453",
   "metadata": {},
   "source": [
    "## Errors\n",
    "Computers are very picky about grammar. If your code doesn't follow the rules of the programming language, it will throw an *error*."
   ]
  },
  {
   "cell_type": "code",
   "execution_count": null,
   "id": "68bd5e4a-6813-4694-9885-c67356ade9ab",
   "metadata": {},
   "outputs": [],
   "source": [
    "# A function requires parentheses `()` around the inputs.\n",
    "print 'Oops, forgot the parentheses.' # this code will raise a SyntaxError."
   ]
  },
  {
   "cell_type": "markdown",
   "id": "48480aca-06d0-44a9-ac99-01875037ab23",
   "metadata": {},
   "source": [
    "Usually the error message tries to give helpful advice about what might be incorrect in your code. Reading error messages is a skill that comes with time and practice. "
   ]
  },
  {
   "cell_type": "markdown",
   "id": "1b31d5e9-f7cc-4232-b1e3-43a95a6451dd",
   "metadata": {},
   "source": [
    "## Numbers with `int` and `float`"
   ]
  },
  {
   "cell_type": "markdown",
   "id": "7f0dd69f-0ad2-4675-a54b-21bcf972b015",
   "metadata": {},
   "source": [
    "`int` is a simple data type and follows the mathematical definition of an integer, eg. `-5000`, `0`, `17`.  \n",
    "`float` is short for 'floating point' and is any number with a decimal, eg. `3.1415`, `4.0`.  \n",
    "[numerical types docs](https://docs.python.org/3/library/stdtypes.html#numeric-types-int-float-complex)"
   ]
  },
  {
   "cell_type": "code",
   "execution_count": null,
   "id": "1a6a298e-1c98-4c53-b06c-fe76171d592a",
   "metadata": {},
   "outputs": [],
   "source": [
    "# Simple arithmetic\n",
    "\n",
    "a = 20 # an int\n",
    "b = 3 # another int\n",
    "\n",
    "print(a, \"+\", b, \"=\", a+b)\n",
    "print(a, \"-\", b, \"=\", a-b)\n",
    "print(a, \"*\", b, \"=\", a*b) # `*` indicates multiplication\n",
    "print(a, \"**\", b, \"=\", a**b) # `**` indicates exponent\n",
    "print(a, \"/\", b, \"=\", a/b)"
   ]
  },
  {
   "cell_type": "markdown",
   "id": "cd7f06cb-445f-4a3f-822c-5a276e737294",
   "metadata": {},
   "source": [
    "**Exercise**\n",
    "\n",
    "Note that since 20 is not divisible by 3, the result of dividing an `int` by an `int` is a `float`. However, some integers are divisible by some other integers, eg. 20 / 2 = 10. In that case, do you think Python should return an `int` or a `float`? \n",
    "\n",
    "How would you check?"
   ]
  },
  {
   "cell_type": "code",
   "execution_count": null,
   "id": "cd175558-2df1-43e8-bfdf-959ad958a38c",
   "metadata": {},
   "outputs": [],
   "source": [
    "# write your code here:\n"
   ]
  },
  {
   "cell_type": "markdown",
   "id": "d536b1a0-c7d7-4766-a0a8-a33fc66a5610",
   "metadata": {},
   "source": [
    "Python also has functionality to do more complex math, but it doesn't come with base Python. Instead, we will have to `import` a *package*. This allows us to use the programs and functions created by someone else. The `math` package is written by the Python developers and installed by default, but can't be used until you `import` it.\n",
    "\n",
    "[`math` docs](https://docs.python.org/3/library/math.html)"
   ]
  },
  {
   "cell_type": "code",
   "execution_count": null,
   "id": "6221a5c0-f0e5-470c-9afb-bfa15bb09dd6",
   "metadata": {},
   "outputs": [],
   "source": [
    "import math\n",
    "print('The square root of', a, 'is', math.sqrt(a) )\n",
    "print('Log', a, 'base', b, 'is', math.log(a,b) )"
   ]
  },
  {
   "cell_type": "markdown",
   "id": "be56d43b-ce43-441a-9b58-435ea5aa9d76",
   "metadata": {},
   "source": [
    "## Variables"
   ]
  },
  {
   "cell_type": "markdown",
   "id": "ad6f647f-67e0-4695-9b2d-e99c3f61cb28",
   "metadata": {},
   "source": [
    "So far we've defined the *variables* `my_variable`, `a`, and `b`. Variables in python work a lot like variables in classical algebra; we can set them to a value, input them into functions, etc.\n",
    "Variable names can be any combination of alphanumeric characters and underscore '_' but cannot start with a number. You also can't redefine 'reserved' keywords like 'print'.\n",
    "\n",
    "Valid: `my_var87`\n",
    "\n",
    "Invalid: `my-var87`, `87_myvar`, `print`"
   ]
  },
  {
   "cell_type": "code",
   "execution_count": null,
   "id": "ec7c526a-f5d6-4cad-a40f-1e062e8b695d",
   "metadata": {},
   "outputs": [],
   "source": [
    "# define a new variable\n",
    "c = 7\n",
    "\n",
    "# redefine to a new value\n",
    "c = c + b\n",
    "\n",
    "# use it in a function\n",
    "d = math.log(c,10)\n",
    "# what is the value of d?"
   ]
  },
  {
   "cell_type": "markdown",
   "id": "5e751163-9402-4338-a102-21673cbf50f1",
   "metadata": {},
   "source": [
    "## Lists"
   ]
  },
  {
   "cell_type": "markdown",
   "id": "9a9c3705-cb57-4ca1-94e7-b8f1fba594f1",
   "metadata": {},
   "source": [
    "So far we have only discussed scalar data points each with a single value. However, sometimes we want to manipulate *collections* of data points. Common use cases include:\n",
    "- *map*: apply the same operation to a set of similar data points, eg. translation, rotation or scaling;\n",
    "- *reduce*: perform some transformation that aggregates a set of data points into a single value, eg. mean or variance.\n",
    "\n",
    "There are tons of *data structures* out there, but for now we introduce the `list`.  \n",
    "[`list` docs](https://docs.python.org/3/library/stdtypes.html#sequence-types-list-tuple-range)\n",
    "\n",
    "Lists are the most generally useful way to store a collection of data in python. Create a list using brackets `[]` with elements separated by commas `,`:"
   ]
  },
  {
   "cell_type": "code",
   "execution_count": null,
   "id": "01d446e8-7e19-4a5d-9c8e-b885d655f3ed",
   "metadata": {},
   "outputs": [],
   "source": [
    "# create a list\n",
    "elementary_school_years = [2000,2001,2002,2003,2004] \n",
    "\n",
    "# add an element to the end of a list using `append`.\n",
    "elementary_school_years.append(2005) \n",
    "\n",
    "print(elementary_school_years)"
   ]
  },
  {
   "cell_type": "markdown",
   "id": "89b6ba97-94a2-4b3a-8e36-215eec54ff47",
   "metadata": {},
   "source": [
    "Note that you can put anything in a `list`, even other lists! but here we're just using integers.  \n",
    "Lists are *ordered* so that you can retrieve any element from its *index*. List indices begin at zero, so the first, second and third elements are accessible at indices 0, 1, and 2. "
   ]
  },
  {
   "cell_type": "code",
   "execution_count": null,
   "id": "472361a8-7a71-4d6e-bc04-e17427324923",
   "metadata": {},
   "outputs": [],
   "source": [
    "# get the first element of a list\n",
    "print(\"The first element:\",elementary_school_years[0])\n",
    "\n",
    "# to access elements backwards from the end of a list, use negative indices:\n",
    "print(\"The last element:\",elementary_school_years[-1])"
   ]
  },
  {
   "cell_type": "markdown",
   "id": "5b92d11c-d77d-4fe1-94a0-8bdc25838a77",
   "metadata": {},
   "source": [
    "Get a subset of the list using the syntax `my_list[start:stop]`. If start or stop are not included, they are assumed to be 0 and the length of the list respectively, such that `my_list[:]` just returns the entire `my_list`."
   ]
  },
  {
   "cell_type": "code",
   "execution_count": null,
   "id": "caf0baef-1c7d-40c9-bbb0-0ea618e61f8b",
   "metadata": {},
   "outputs": [],
   "source": [
    "# get the first 3 items\n",
    "print(elementary_school_years[:3])"
   ]
  },
  {
   "cell_type": "markdown",
   "id": "d2bf4ac5-4da7-4f1c-80d7-dfb7214dfd6f",
   "metadata": {},
   "source": [
    "There's lots more you can do with a list, but for now I'll just introduce a couple of operations on lists that we'll use later in this tutorial."
   ]
  },
  {
   "cell_type": "code",
   "execution_count": null,
   "id": "09c96203-47cb-4be9-bfa6-fdfe0c1b8677",
   "metadata": {},
   "outputs": [],
   "source": [
    "# get the length of a list\n",
    "print(len(elementary_school_years))\n",
    "\n",
    "# reverse a list\n",
    "print(elementary_school_years[::-1])"
   ]
  },
  {
   "cell_type": "markdown",
   "id": "b21e3cb5-ba14-4b2a-b575-a95b56c7543c",
   "metadata": {},
   "source": [
    "**Exercise**: is `len` a mapping or a reduction? how about reversal?"
   ]
  },
  {
   "cell_type": "markdown",
   "id": "b3772ea6-373f-4073-8240-b66af5b1bca9",
   "metadata": {},
   "source": [
    "## Statistics with `math` and `scipy`"
   ]
  },
  {
   "cell_type": "markdown",
   "id": "cb9a819b-ac0b-414d-a891-a8f8f81b3126",
   "metadata": {},
   "source": [
    "We now have nearly all the basic ingredients to begin doing useful science with Python! To demonstrate, let's start with some example data. \n",
    "\n",
    "Suppose we're engineering a knockout model of a gene. To test whether the knockout was successful, we measure gene expression in 5 replicates of the knockout model and 5 controls: "
   ]
  },
  {
   "cell_type": "code",
   "execution_count": null,
   "id": "cad191dd-7adb-441e-ae1d-ce7d96d7e47b",
   "metadata": {},
   "outputs": [],
   "source": [
    "ko = [54.00, 58.15, 65.30, 72.06, 96.18]\n",
    "ctrl = [412.91, 462.26, 492.03, 563.65, 664.11]"
   ]
  },
  {
   "cell_type": "markdown",
   "id": "7cb3d41b-f47f-44d3-93d8-50aef505a4a2",
   "metadata": {},
   "source": [
    "It sure looks like we were successful, but our PI is demanding a p-value. Let's do that in Python.\n",
    "\n",
    "For statistics in Python, the best package out there is `scipy`. `scipy` has functions for every statistical test out there, but we just need the humble t-test. Take a look at the [scipy docs](https://docs.scipy.org/doc/scipy/reference/generated/scipy.stats.ttest_ind.html) for the t-test to see how to run it.\n",
    "\n",
    "Looks like you need inputs `a` and `b`, and a lot of other parameters which we'll leave as default."
   ]
  },
  {
   "cell_type": "code",
   "execution_count": null,
   "id": "964ec906-7dfb-44ae-9064-edfd6486e612",
   "metadata": {},
   "outputs": [],
   "source": [
    "import scipy.stats\n",
    "\n",
    "scipy.stats.ttest_ind(a=ko, b=ctrl)"
   ]
  },
  {
   "cell_type": "markdown",
   "id": "e078407b-dcfb-405f-918f-8fa524b2dd61",
   "metadata": {},
   "source": [
    "Wonderful. Our p-value is 7.6e-6, which is definitely significant.\n",
    "\n",
    "Our PI is pretty demanding. To prepare a visualization for our biweekly meeting, read on to tutorial 1.1."
   ]
  },
  {
   "cell_type": "markdown",
   "id": "15aa4044-6659-4189-9a24-0a893054d28c",
   "metadata": {},
   "source": [
    "## Solutions"
   ]
  },
  {
   "cell_type": "code",
   "execution_count": null,
   "id": "86355a12-ae7c-4c97-bcda-b046a0314827",
   "metadata": {},
   "outputs": [],
   "source": []
  },
  {
   "cell_type": "markdown",
   "id": "7df0799c-398a-4259-bc89-80235db8299d",
   "metadata": {},
   "source": [
    "## Resources"
   ]
  },
  {
   "cell_type": "code",
   "execution_count": null,
   "id": "576baf4d-bbb0-44f8-bc46-5d39d58af1b0",
   "metadata": {},
   "outputs": [],
   "source": []
  },
  {
   "cell_type": "markdown",
   "id": "3dfd3653-e551-459d-9a65-09235534715f",
   "metadata": {},
   "source": [
    "## Postscript: arrays, matrices and tensors"
   ]
  },
  {
   "cell_type": "markdown",
   "id": "d824d600-850c-450b-819d-cc7cabf18517",
   "metadata": {},
   "source": [
    "You may notice that the scipy doc for the t-test states that parameters `a` and `b` should be 'array-like'. `array` is a class defined in the `numpy` package for linear algebra and implements the idea of 1st-order vectors, 2nd-order matrices, and higher-order tensors. The lists of numbers we used are first-order; lists of lists would be considered second-order, etc. If, for example, we had done RNA-seq to get gene expression of thousands of genes across our 10 samples, we could organize these into a second-order matrix and use `scipy.stats.ttest_ind` perform t-tests for each gene. But that's beyond scope for this introductory tutorial."
   ]
  }
 ],
 "metadata": {
  "kernelspec": {
   "display_name": "py3",
   "language": "python",
   "name": "py3"
  },
  "language_info": {
   "codemirror_mode": {
    "name": "ipython",
    "version": 3
   },
   "file_extension": ".py",
   "mimetype": "text/x-python",
   "name": "python",
   "nbconvert_exporter": "python",
   "pygments_lexer": "ipython3",
   "version": "3.13.5"
  }
 },
 "nbformat": 4,
 "nbformat_minor": 5
}
