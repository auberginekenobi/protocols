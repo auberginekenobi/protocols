{
 "cells": [
  {
   "cell_type": "markdown",
   "id": "11654fec-b6b0-4cf8-aee3-3e2eb6005765",
   "metadata": {},
   "source": [
    "# 1.1 Text manipulation\n",
    "This tutorial notebook introduces the following key concepts and their implementations in python:\n",
    "- the data type for text, `str`\n",
    "- `dict` data structure\n",
    "- iteration\n",
    "- creating a function\n",
    "\n",
    "By the end of this tutorial you will have all the ingredients to solve the reverse complement problem introduced in the README.\n",
    "\n",
    "### Requirements\n",
    "**Dependencies:**  \n",
    "Python 3\n",
    "\n",
    "**Prerequisites:**  \n",
    "Tutorial 1.0 'Python is a calculator'\n"
   ]
  },
  {
   "cell_type": "markdown",
   "id": "1a77fc1c-ff35-4afc-be22-7b96ee65006a",
   "metadata": {},
   "source": [
    "## Text with `str`"
   ]
  },
  {
   "cell_type": "markdown",
   "id": "2803ada6-c209-4754-a3cb-8e217fbef4a4",
   "metadata": {},
   "source": [
    "[docs](https://docs.python.org/3/library/stdtypes.html#text-sequence-type-str)  \n",
    "Apart from numbers, another common data format we encounter is text. Text in programming languages is called a 'string' (`str`) and is indicated using single, double or triple quotes."
   ]
  },
  {
   "cell_type": "code",
   "execution_count": null,
   "id": "9f42956d-1e5c-4a43-812d-7ad3b13a75d6",
   "metadata": {},
   "outputs": [],
   "source": [
    "c = 'a single-quoted string'\n",
    "d = \"a double quoted string containing 'single quotes'\"\n",
    "\n",
    "print(c)\n",
    "print(d)"
   ]
  },
  {
   "cell_type": "markdown",
   "id": "2e0f536a-9361-42f3-b91c-7db00b6486f0",
   "metadata": {},
   "source": [
    "Strings are useful for representing any kind of sequence-like data, including DNA, RNA, and proteins."
   ]
  },
  {
   "cell_type": "code",
   "execution_count": null,
   "id": "3f75929d-25ef-4b7f-853e-128ed7e50204",
   "metadata": {},
   "outputs": [],
   "source": [
    "FLAG = 'DYKDDDDK'\n",
    "mRNA = 'GACUACAAAGACGAUGACGAUAAA'\n",
    "cDNA = 'GACTACAAAGACGATGACGATAAA'"
   ]
  },
  {
   "cell_type": "markdown",
   "id": "0095ff6d-a93e-4390-984b-3366d986d2cf",
   "metadata": {},
   "source": [
    "Python strings are implemented as `list`s of single characters, so you can manipulate strings using the same syntax for lists which we learned in the previous chapter.  \n",
    "Here are some useful operations on strings:"
   ]
  },
  {
   "cell_type": "code",
   "execution_count": null,
   "id": "665b481b-0404-4e90-a42a-8c9884aa30fc",
   "metadata": {},
   "outputs": [],
   "source": [
    "print(\"Here are some facts about\",FLAG)\n",
    "\n",
    "# find the length of a string using the len() function\n",
    "print(\"length:\",len(FLAG))\n",
    "\n",
    "# get the first, second, etc. character using []\n",
    "# note that a string index starts at 0.\n",
    "print(\"The first character:\", FLAG[0]) # the 0th character\n",
    "\n",
    "# you can index from the end of the string using a negative index.\n",
    "# negative indices start at -1.\n",
    "print(\"The last character:\",FLAG[1])\n",
    "\n",
    "# get a substring using [start:end].\n",
    "# the start index is included, the end is not.\n",
    "print(\"The first codon:\",mRNA[0:3])\n",
    "\n",
    "# if you omit start or end, 0 or -1 is assumed, respectively.\n",
    "print(\"The other codons:\",mRNA[3:])\n",
    "\n",
    "# you can even \"add\" strings.\n",
    "print(\"Double FLAG:\",FLAG+FLAG)"
   ]
  },
  {
   "cell_type": "markdown",
   "id": "8fc08e39-d096-4cbc-b048-bb8023a4c42e",
   "metadata": {},
   "source": [
    "In addition, there's a library of [built-in python functions for strings](https://docs.python.org/3/library/stdtypes.html#string-methods)."
   ]
  },
  {
   "cell_type": "code",
   "execution_count": null,
   "id": "5abdfa21-88f4-4608-841f-0cc7af41caa0",
   "metadata": {},
   "outputs": [],
   "source": [
    "str.lower(cDNA)"
   ]
  },
  {
   "cell_type": "markdown",
   "id": "010127e7-a2eb-4a53-bd27-236b46070e13",
   "metadata": {},
   "source": [
    "## `dict`"
   ]
  },
  {
   "cell_type": "markdown",
   "id": "9c7ba0c5-7632-461e-be3f-f3035550612b",
   "metadata": {},
   "source": [
    "`dict`, short for 'dictionary', is a lookup table, allowing us to map *keys* to unique *values*. Create a `dict` using curly braces `d={key:value}`:"
   ]
  },
  {
   "cell_type": "code",
   "execution_count": null,
   "id": "d7523917-5c30-4304-86e5-48a4e378e72f",
   "metadata": {},
   "outputs": [],
   "source": [
    "# Create a dict\n",
    "pokemon_release_years = {\n",
    "    'Red':1998,\n",
    "    'Blue':1998,\n",
    "    'Yellow':1999,\n",
    "    'Gold':2000,\n",
    "    'Silver':2000,\n",
    "    'Crystal':2001,\n",
    "    'Ruby':2003,\n",
    "    'Sapphire':2003,\n",
    "    'FireRed':2004,\n",
    "    'LeafGreen':2004\n",
    "}\n",
    "\n",
    "# Access an entry using dict[key]\n",
    "best = 'Red'\n",
    "print('Pokemon',best,'was released in North America in',pokemon_release_years[best])\n",
    "\n",
    "# Add a new entry\n",
    "pokemon_release_years['Emerald'] = 2005"
   ]
  },
  {
   "cell_type": "markdown",
   "id": "6a466f1e-0930-48b5-80e9-8b08f71fca1b",
   "metadata": {},
   "source": [
    "Note that each key must be unique, but you can have duplicate values.\n",
    "\n",
    "A `dict` is useful in any situation where we want to map a limited number of inputs to exactly one output value each. In mathematical terms, this is a *discrete function* on a *finite input space*.  \n",
    "For example, in molecular biology, we know that DNA always forms complementary pairs: 'A' always pairs with 'T', and 'C' with 'G'.  Suppose we want to write a program to emulate this behavior. We have a finite input space on {A,C,G,T} and each maps to exactly one output, so a `dict` is a good way to implement this:"
   ]
  },
  {
   "cell_type": "code",
   "execution_count": null,
   "id": "94526c02-ca01-4ca6-bf4f-08cb63758640",
   "metadata": {},
   "outputs": [],
   "source": [
    "dna_complements = {\n",
    "    'A':'T',\n",
    "    'C':'G',\n",
    "    'G':'C',\n",
    "    'T':'A'\n",
    "}\n",
    "\n",
    "# To get the complement of 'A',\n",
    "dna_complements['A']"
   ]
  },
  {
   "cell_type": "markdown",
   "id": "fa98c651-5871-4630-9354-65758f7b56d1",
   "metadata": {},
   "source": [
    "**Exercise**: A DNA polymerase would replicate DNA using a mapping like the above. RNA polymerase uses DNA as a template to create RNA, which uses U instead of T. What `dict` would an RNA polymerase use?"
   ]
  },
  {
   "cell_type": "code",
   "execution_count": null,
   "id": "5253ba72-646e-4847-b476-36267b2a9e95",
   "metadata": {},
   "outputs": [],
   "source": [
    "rna_complements = {\n",
    "    ## Your code here\n",
    "    \n",
    "}"
   ]
  },
  {
   "cell_type": "markdown",
   "id": "4a160fcc-f311-49e0-aafb-bfb93f7b4f17",
   "metadata": {},
   "source": [
    "One more note about dictionaries. It is sometimes useful to get all of the keys, values, or key-value pairs in a `dict`. "
   ]
  },
  {
   "cell_type": "code",
   "execution_count": null,
   "id": "ebb4a531-fa6b-42c6-8bfd-3e32fafa05ba",
   "metadata": {},
   "outputs": [],
   "source": [
    "print('keys:',pokemon_release_years.keys())\n",
    "print('values:',pokemon_release_years.values())\n",
    "print('key-value pairs:',pokemon_release_years.items())"
   ]
  },
  {
   "cell_type": "markdown",
   "id": "ec88baca-ad30-47cd-8eae-4b7b759fc500",
   "metadata": {},
   "source": [
    "## Iteration"
   ]
  },
  {
   "cell_type": "markdown",
   "id": "6f8312cb-9ecf-4bd5-91b7-8920ee55c23b",
   "metadata": {},
   "source": [
    "In the previous section, we introduced operations which operate on collections of data, such as `len()` to find the length of a list. How do these functions work? and how can we do it ourselves? Such an operation will be essential if, for example, we were to find the reverse complement of a DNA sequence by *iterating* over the sequence and finding the complement of each base. \n",
    "\n",
    "To begin, let's imagine how we could write the `len` function:\n",
    "```\n",
    "# Pseudocode for function len, which accepts 1 input sequence\n",
    "start count at 0\n",
    "for each element in input, add 1 to count\n",
    "output count\n",
    "```\n",
    "Now, let's see the Python code:"
   ]
  },
  {
   "cell_type": "code",
   "execution_count": null,
   "id": "59589b8b-fe8d-4df0-b6f1-8a059b9612a2",
   "metadata": {},
   "outputs": [],
   "source": [
    "# get len(FLAG)\n",
    "count = 0\n",
    "for element in FLAG:\n",
    "    count = count + 1\n",
    "print(FLAG,\"length:\",count)"
   ]
  },
  {
   "cell_type": "markdown",
   "id": "80829c84-c507-4ea0-b788-db5f30acc4e5",
   "metadata": {},
   "source": [
    "Explaining that code in more detail,\n",
    "```\n",
    "count = 0\n",
    "```\n",
    "To begin, we define a new variable `count` and set it to 0. \n",
    "```\n",
    "for element in FLAG:\n",
    "```\n",
    "The `for x in y :` syntax tells python to *iterate* over all elements in the collection `y`, each time setting the new variable `x` to the value of that element.\n",
    "```\n",
    "    count = count + 1\n",
    "```\n",
    "Here indentation is used to define the *scope* of the `for` loop. Every line beginning with at tab '\\t' or four spaces '    ' will be run in each iteration.\n",
    "```\n",
    "print(FLAG,\"length:\",count)\n",
    "```\n",
    "Because the `print` statement is not indented, it indicates the end of the `for` loop and is only run once.\n",
    "\n",
    "So, the above `for` loop is equivalent to running:"
   ]
  },
  {
   "cell_type": "code",
   "execution_count": null,
   "id": "35f190bb-fc0d-477f-98d1-3ab672e2cd49",
   "metadata": {},
   "outputs": [],
   "source": [
    "count = 0\n",
    "element = FLAG[0]\n",
    "count = count + 1\n",
    "element = FLAG[1]\n",
    "count = count + 1\n",
    "element = FLAG[2]\n",
    "count = count + 1\n",
    "element = FLAG[3]\n",
    "count = count + 1\n",
    "element = FLAG[4]\n",
    "count = count + 1\n",
    "element = FLAG[5]\n",
    "count = count + 1\n",
    "element = FLAG[6]\n",
    "count = count + 1\n",
    "element = FLAG[7]\n",
    "count = count + 1\n",
    "print(FLAG,\"length:\",count)"
   ]
  },
  {
   "cell_type": "markdown",
   "id": "198d90d2-42ac-4790-b90f-27268584f279",
   "metadata": {},
   "source": [
    "but far more elegant, especially if we wanted to find the length of a much longer string.\n",
    "\n",
    "Finally, I'll introduce a frequently-used pattern across programming, which is to iterate over the index of the iterable instead of the elements. The following 2 code snippets are equivalent:"
   ]
  },
  {
   "cell_type": "code",
   "execution_count": null,
   "id": "13c9820b-143e-411c-8777-98e54f42e70b",
   "metadata": {},
   "outputs": [],
   "source": [
    "for element in FLAG:\n",
    "    pass # the `pass` keyword does nothing except exit the for loop\n",
    "\n",
    "for i in range(len(FLAG)):\n",
    "    element = FLAG[i]\n",
    "    pass"
   ]
  },
  {
   "cell_type": "markdown",
   "id": "25dd50a9-6004-4be7-bf95-43384edebbc3",
   "metadata": {},
   "source": [
    "The former iterates on the elements of FLAG, ie. `element` = `'D'`, `'Y'`, `'K'`, ...  \n",
    "The latter iterates on the *index*, ie. `i` = `1`, `2`, `3`, ...  and then gets the elements using `element = FLAG[i]`.  \n",
    "Having access to the index within the `for` loop could be useful in some situations, including for example reversing a string..."
   ]
  },
  {
   "cell_type": "markdown",
   "id": "236a7a4a-a5ff-4032-bfa0-f415b7015ac9",
   "metadata": {},
   "source": [
    "## Writing a function"
   ]
  },
  {
   "cell_type": "markdown",
   "id": "874fa5af-dd69-44c0-b820-13ac402c76dc",
   "metadata": {},
   "source": [
    "So far, we haven't quite replicated the `len` function as we're missing the nice `my_len()` syntax. In programming languages, a `function` is a small program-within-a-program to help organize, reuse, and share your code. Let's wrap our length code in a function:"
   ]
  },
  {
   "cell_type": "code",
   "execution_count": null,
   "id": "049e49a9-2e82-4966-91dc-8a970713d6fb",
   "metadata": {},
   "outputs": [],
   "source": [
    "def my_len(x):\n",
    "    count = 0\n",
    "    for element in x:\n",
    "        count = count + 1\n",
    "    return count"
   ]
  },
  {
   "cell_type": "markdown",
   "id": "a40e9b97-6754-4d4a-8769-5e0a06dbd4ca",
   "metadata": {},
   "source": [
    "Let's take a look at the new lines of code.  \n",
    "```\n",
    "def my_len(x):\n",
    "```\n",
    "Create a new function using the `def` keyword. Inputs, also called *parameters* or *arguments*, are in parentheses `()` separated by commas `,`. As in the `for` loop, a colon `:` followed by indentation defines the scope of the function. All variables defined within the function only exist within that scope, and do not persist outside the function.\n",
    "```\n",
    "return count\n",
    "```\n",
    "The only value that persists outside the function is the output(s) defined by the `return` keyword."
   ]
  },
  {
   "cell_type": "code",
   "execution_count": null,
   "id": "67d12cf2-06c3-4168-8d83-18f98d66f869",
   "metadata": {},
   "outputs": [],
   "source": [
    "print(FLAG,\"length:\",my_len(FLAG))"
   ]
  },
  {
   "cell_type": "markdown",
   "id": "94b0a182-76eb-468a-98a3-16ae2f6e209c",
   "metadata": {},
   "source": [
    "## Putting it all together"
   ]
  },
  {
   "cell_type": "markdown",
   "id": "872ce5e0-cfdb-4af7-9ef5-6685b7b86afd",
   "metadata": {},
   "source": [
    "You now have all the ingredients we need to create a `reverse_complement` function. Use a `dict` to encode DNA base complement chemistry, a `for` loop to iterate over the input DNA sequence, and a clever bit of math on the index to reverse the sequence. "
   ]
  },
  {
   "cell_type": "code",
   "execution_count": null,
   "id": "3342b7f5-f69e-43e0-ba46-78a4ecd38299",
   "metadata": {},
   "outputs": [],
   "source": [
    "## Exercise: complete the function.\n",
    "complements = {\n",
    "    'A':'T',\n",
    "    'C':'G',\n",
    "    'G':'C',\n",
    "    'T':'A'\n",
    "}\n",
    "\n",
    "def reverse(x):\n",
    "    result = ''\n",
    "    for i in range(len(x)):\n",
    "        # TODO reverse the list\n",
    "    return result\n",
    "\n",
    "def complement(x):\n",
    "    result = ''\n",
    "    for base in x:\n",
    "        # TODO get the complement of x\n",
    "    return result\n",
    "\n",
    "def reverse_complement(x):\n",
    "    return reverse(complement(x))"
   ]
  },
  {
   "cell_type": "code",
   "execution_count": null,
   "id": "61eb80ab-3472-49ae-872a-090bc6b86752",
   "metadata": {},
   "outputs": [],
   "source": [
    "# Check your work\n",
    "cDNA = 'GACTACAAAGACGATGACGATAAA'\n",
    "reverse_complement(cDNA)\n",
    "# answer should be 'TTTATCGTCATCGTCTTTGTAGTC'"
   ]
  },
  {
   "cell_type": "markdown",
   "id": "46dfe8db-7a9d-44ea-b4ca-cba4bd5dd96b",
   "metadata": {},
   "source": [
    "## Solutions"
   ]
  },
  {
   "cell_type": "code",
   "execution_count": null,
   "id": "bc47141d-9bb6-45a7-81cc-ed0a0e483b68",
   "metadata": {},
   "outputs": [],
   "source": [
    "rna_complements = {\n",
    "    'A':'U',\n",
    "    'C':'G',\n",
    "    'G':'C',\n",
    "    'T':'A'\n",
    "}\n",
    "\n",
    "def complement(x):\n",
    "    result = ''\n",
    "    for base in x:\n",
    "        result = result + complements[base]\n",
    "    return result\n",
    "\n",
    "# There are a few ways to complete the reverse function:\n",
    "def reverse(x):\n",
    "    result = ''\n",
    "    for i in range(len(x)):\n",
    "        result = x[i] + result\n",
    "    return result\n",
    "\n",
    "def reverse2(x):\n",
    "    result = ''\n",
    "    for i in range(len(x)):\n",
    "        j = len(x)-i-1 # j = 7,6,5,...\n",
    "        result = result + x[j]\n",
    "    return result\n",
    "\n",
    "def reverse3(x):\n",
    "    result = ''\n",
    "    for i in range(len(x)):\n",
    "        j = -i-1 # j = -1,-2,-3,...\n",
    "        result = result + x[j]\n",
    "    return result\n",
    "\n",
    "def reverse_complement(x):\n",
    "    return reverse(complement(x))"
   ]
  },
  {
   "cell_type": "code",
   "execution_count": null,
   "id": "838e6636-dea9-47ca-a56d-1be1d5be2ea9",
   "metadata": {},
   "outputs": [],
   "source": []
  }
 ],
 "metadata": {
  "kernelspec": {
   "display_name": "py3",
   "language": "python",
   "name": "py3"
  },
  "language_info": {
   "codemirror_mode": {
    "name": "ipython",
    "version": 3
   },
   "file_extension": ".py",
   "mimetype": "text/x-python",
   "name": "python",
   "nbconvert_exporter": "python",
   "pygments_lexer": "ipython3",
   "version": "3.12.6"
  }
 },
 "nbformat": 4,
 "nbformat_minor": 5
}
