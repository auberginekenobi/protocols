{
 "cells": [
  {
   "cell_type": "markdown",
   "id": "6fac388f-0af2-4692-bfe7-3165895ac3e5",
   "metadata": {},
   "source": [
    "# 1.2 Control flow\n",
    "This tutorial notebook introduces the following key concepts and their implementations in python:\n",
    "- logic operations using `bool`\n",
    "- the `if` `else` construction for control flow\n",
    "- testing your code\n",
    "\n",
    "By the end of this tutorial you will be able to test the code you wrote in previous sections for correctness.\n",
    "\n",
    "### Requirements\n",
    "**Dependencies:**  \n",
    "Python 3\n",
    "\n",
    "**Prerequisites:**  \n",
    "Tutorial 1.0 'Python is a calculator'  \n",
    "Tutorial 1.1 'Text manipulation'  "
   ]
  },
  {
   "cell_type": "markdown",
   "id": "e00af521-6a92-428d-958f-cd95a46aa267",
   "metadata": {},
   "source": [
    "## logic with `bool`"
   ]
  },
  {
   "cell_type": "markdown",
   "id": "483383b3-e76c-445e-a230-1adb5f5c8693",
   "metadata": {},
   "source": [
    "[docs](https://docs.python.org/3/library/stdtypes.html#truth-value-testing)\n",
    "This tutorial introduces yet another basic data type, `bool`, short for 'boolean'. There are exactly 2 possible values for a `bool`: `True` or `False`. It is used for logic operations.\n",
    "\n",
    "**Exercise**\n",
    "\n",
    "See if you can predict whether each `print` statement below will return `True` or `False`."
   ]
  },
  {
   "cell_type": "code",
   "execution_count": null,
   "id": "4ba0ff04-43e6-4e53-9d63-ea447e5e7ab8",
   "metadata": {},
   "outputs": [],
   "source": [
    "# Simple logical arithmetic\n",
    "\n",
    "a = 20\n",
    "b = 3\n",
    "\n",
    "# Check equality with `==`\n",
    "print('Oh great python, does',a,'equal',b,'?')\n",
    "print(a==b)\n",
    "\n",
    "# Can check inequality too\n",
    "print('I see. Then, is',a,'greater than',b,'?')\n",
    "print(a>b)\n",
    "\n",
    "# Negate using `not`\n",
    "print('python, what is the opposite of',True,'?')\n",
    "print(not True)\n",
    "\n",
    "# link multiple booleans together\n",
    "print('Can I have my cake and eat it too?')\n",
    "have_cake = True\n",
    "eat_it_too = False\n",
    "print(have_cake and eat_it_too)"
   ]
  },
  {
   "cell_type": "markdown",
   "id": "a65363eb-2be4-4bbf-a992-96f0451671a3",
   "metadata": {},
   "source": [
    "## Control flow"
   ]
  },
  {
   "cell_type": "markdown",
   "id": "4373498e-f301-41aa-a392-222893b04318",
   "metadata": {},
   "source": [
    "The most common use for booleans is *control flow*, logic designed to evaluate whether or not to run a line of code. The pattern in python looks like this:\n",
    "```\n",
    "if <condition>:\n",
    "    # (This code is run when <condition> == True)\n",
    "else:\n",
    "    # (This code is run when <condition> == False)\n",
    "# (This code is always run)\n",
    "```\n",
    "Note the use of colon `:` and indentation to specify scope, as in functions and `for` loops from Tutorial 1.1. Consider the example function:"
   ]
  },
  {
   "cell_type": "code",
   "execution_count": null,
   "id": "faa0835c-f0f9-49e3-97cd-8c1e9cd3dff7",
   "metadata": {},
   "outputs": [],
   "source": [
    "def am_i_old(age):\n",
    "    print(\"Your age:\",age)\n",
    "    if age < 30:\n",
    "        return \"you're young\"\n",
    "    else:\n",
    "        return \"you're old\""
   ]
  },
  {
   "cell_type": "code",
   "execution_count": null,
   "id": "ab27fd5c-96bd-456e-88f9-3e746ddb1c61",
   "metadata": {},
   "outputs": [],
   "source": [
    "am_i_old(30)"
   ]
  },
  {
   "cell_type": "markdown",
   "id": "2d9312d6-a996-4aa7-9fd8-a7174581a27f",
   "metadata": {},
   "source": [
    "**Exercise**: does this function think you're old?\n",
    "\n",
    "But what if you need a third category? Suppose there's an age that is neither old nor young?  \n",
    "One strategy is to use *nested conditionals*:"
   ]
  },
  {
   "cell_type": "code",
   "execution_count": null,
   "id": "40815925-78c3-47a0-b3bc-4b61262bdb93",
   "metadata": {},
   "outputs": [],
   "source": [
    "def am_i_old_2(age):\n",
    "    print(\"Your age:\",age)\n",
    "    if age < 30:\n",
    "        return \"you're young\"\n",
    "    else:\n",
    "        if age == 30: \n",
    "            return \"you're perfect\"\n",
    "        else:\n",
    "            return \"you're old\""
   ]
  },
  {
   "cell_type": "code",
   "execution_count": null,
   "id": "b30dc6de-e73e-4ba7-8503-68d0d12ce03d",
   "metadata": {},
   "outputs": [],
   "source": [
    "am_i_old_2(30)"
   ]
  },
  {
   "cell_type": "markdown",
   "id": "503b9f71-72de-492f-af29-cdd303ad312f",
   "metadata": {},
   "source": [
    "Since this could use a lot of lines and indents if the number of conditions is large, python has a special `elif` keyword for 'else if':"
   ]
  },
  {
   "cell_type": "code",
   "execution_count": null,
   "id": "ce23281b-f0e2-4e2b-b515-b489eb14fea2",
   "metadata": {},
   "outputs": [],
   "source": [
    "def am_i_old_3(age):\n",
    "    # equivalent to am_i_old_2\n",
    "    print(\"Your age:\",age)\n",
    "    if age < 30:\n",
    "        return \"you're young\"\n",
    "    elif age == 30: \n",
    "        return \"you're perfect\"\n",
    "    else:\n",
    "        return \"you're old\""
   ]
  },
  {
   "cell_type": "markdown",
   "id": "1c58bc8a-45f0-469c-b755-552e24a9869b",
   "metadata": {},
   "source": [
    "## Testing your code"
   ]
  },
  {
   "cell_type": "markdown",
   "id": "73802fb8-6041-4a6a-8832-53c1dfb9b0b6",
   "metadata": {},
   "source": [
    "In Tutorial 1.1, you wrote a function to solve the reverse complement problem. How do you know if your code is correct?\n",
    "\n",
    "Of course, the first test is the eye test: read the code, understand it, and convince yourself that it does what it's supposed to do. But people make mistakes, and I've written many a function I thought was correct until it wasn't.\n",
    "\n",
    "That's where testing comes in. A test runs code using given inputs and checks that the output is as expected. For example:"
   ]
  },
  {
   "cell_type": "code",
   "execution_count": null,
   "id": "466ffc3c-046f-4b62-84ec-11b6ed3598e7",
   "metadata": {},
   "outputs": [],
   "source": [
    "def test_reverse_complement_1(rc_function):\n",
    "    # Takes an input function rc_function, runs it against an input, and throws an Exception if the result is incorrect.\n",
    "    result = rc_function('TTACG')\n",
    "    correct = 'CGTAA'\n",
    "    if result != correct:\n",
    "        raise Exception(\"Test 1 failed! Expected output: \"+correct+\"; Observed output: \"+result)\n",
    "    return \"pass!\""
   ]
  },
  {
   "cell_type": "markdown",
   "id": "dc9d9324-f556-4af3-869d-eb7c5c6a0deb",
   "metadata": {},
   "source": [
    "Let's see our test in action. Here's an obviously incorrect reverse complement solution:"
   ]
  },
  {
   "cell_type": "code",
   "execution_count": null,
   "id": "b55617fd-c0c1-40c6-a5ae-1f1345330dea",
   "metadata": {},
   "outputs": [],
   "source": [
    "def wrong_complement(x):\n",
    "    return \"AAAAAAAAAAAA\"\n",
    "\n",
    "test_reverse_complement_1(wrong_complement)"
   ]
  },
  {
   "cell_type": "markdown",
   "id": "e1006c5d-dfd8-4c49-987d-ad04b8c86271",
   "metadata": {},
   "source": [
    "Note that tests can identify incorrect code, but can't prove correctness. Here's another obviously incorrect solution that passes our test:"
   ]
  },
  {
   "cell_type": "code",
   "execution_count": null,
   "id": "1223a9d3-4e4c-426e-a344-0d358d495577",
   "metadata": {},
   "outputs": [],
   "source": [
    "def wrong_complement2(x):\n",
    "    return 'CGTAA'\n",
    "    \n",
    "test_reverse_complement_1(wrong_complement2)"
   ]
  },
  {
   "cell_type": "markdown",
   "id": "b52d0771-28bf-4365-a6eb-3e002b5aee0c",
   "metadata": {},
   "source": [
    "Thus, it's good practice to write a few tests so that your *test coverage* covers as many inputs as possible.\n",
    "\n",
    "Checking observed against expected values is so common that Python has a special `assert` keyword to do that. The syntax looks like\n",
    "```\n",
    "assert <conditional statement>,\"Message to be displayed if the conditional is False\"\n",
    "```\n",
    "For example,"
   ]
  },
  {
   "cell_type": "code",
   "execution_count": null,
   "id": "456afb40-981c-48d8-9f30-022ea837039a",
   "metadata": {},
   "outputs": [],
   "source": [
    "def test_reverse_complement_2(rc_function):\n",
    "    # Tests a reverse complement solution on the empty string ''.\n",
    "    assert rc_function('')=='',\"Test 2 failed! Expected output: ''; Observed output: \"+rc_function('')\n",
    "    return \"pass!\""
   ]
  },
  {
   "cell_type": "markdown",
   "id": "3fbbeda6-9efa-4ea0-b9fc-d28f1ea17ee3",
   "metadata": {},
   "source": [
    "**Exercise**: write your own test."
   ]
  },
  {
   "cell_type": "code",
   "execution_count": null,
   "id": "bb615ce8-c599-4ee1-8c9e-8547f2d75b0d",
   "metadata": {},
   "outputs": [],
   "source": [
    "def test_reverse_complement_3(rc_function):\n",
    "    pass # delete this line\n",
    "    # your code here\n",
    "\n",
    "# And copy-paste your reverse complement function from Tutorial 1.1 below:\n",
    "def reverse_complement(x):\n",
    "    pass # delete this line\n",
    "    # Your code here\n"
   ]
  },
  {
   "cell_type": "code",
   "execution_count": null,
   "id": "961c8034-2117-4a6a-ad95-76d1ac9873e8",
   "metadata": {},
   "outputs": [],
   "source": [
    "def run_all_tests(rc_function):\n",
    "    print(test_reverse_complement_1(rc_function))\n",
    "    print(test_reverse_complement_2(rc_function))\n",
    "    print(test_reverse_complement_3(rc_function))\n",
    "\n",
    "run_all_tests(reverse_complement)"
   ]
  },
  {
   "cell_type": "markdown",
   "id": "1b07f6e1-e399-44d5-a4d1-56baad0c4148",
   "metadata": {},
   "source": [
    "Did your code pass all tests?"
   ]
  },
  {
   "cell_type": "markdown",
   "id": "479af4ad-ad50-4a99-9b9e-b93a5dafc337",
   "metadata": {},
   "source": [
    "## Notes"
   ]
  },
  {
   "cell_type": "code",
   "execution_count": null,
   "id": "8eb2cb68-065c-4dc6-abab-3a3c22d836b7",
   "metadata": {},
   "outputs": [],
   "source": [
    "print( 'comparison operators: [==, !=, <=, <, >=, >]' )\n",
    "print(b,'==',3,'?', b==3)\n",
    "print(b,'!=',3,'?', b!=3)\n",
    "print(b,'>',3,'?', b>3)\n",
    "print(b,'>=',3,'?', b>=3)\n",
    "print(b,'<',3,'?', b<3)\n",
    "print(b,'<=',3,'?', b<=3)\n",
    "\n",
    "print( 'connective operators: [and, or, not]' )\n",
    "print(True,'or',False,'?', True or False)\n",
    "print(True,'and',False,'?', True and False)\n",
    "print('not', False,'?', not False)"
   ]
  }
 ],
 "metadata": {
  "kernelspec": {
   "display_name": "Python 3 (ipykernel)",
   "language": "python",
   "name": "python3"
  },
  "language_info": {
   "codemirror_mode": {
    "name": "ipython",
    "version": 3
   },
   "file_extension": ".py",
   "mimetype": "text/x-python",
   "name": "python",
   "nbconvert_exporter": "python",
   "pygments_lexer": "ipython3",
   "version": "3.12.5"
  }
 },
 "nbformat": 4,
 "nbformat_minor": 5
}
